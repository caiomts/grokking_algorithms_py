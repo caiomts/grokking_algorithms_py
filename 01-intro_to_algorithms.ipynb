{
 "cells": [
  {
   "cell_type": "markdown",
   "id": "aca7de8b-4951-44a4-8ba4-e8ffea761f9b",
   "metadata": {},
   "source": [
    "# Binary search\n"
   ]
  },
  {
   "cell_type": "code",
   "execution_count": 1,
   "id": "57991044-553b-4192-bedb-ff1cceb6d9cf",
   "metadata": {},
   "outputs": [],
   "source": [
    "def binary_search(l, item):\n",
    "    \"\"\"Return the item's position in a sorted list.\"\"\"\n",
    "    low = 0\n",
    "    high = len(l) - 1\n",
    "    while low <= high:\n",
    "        mid = (low + high) // 2\n",
    "        guess = l[mid]\n",
    "        if guess == item:\n",
    "            return mid\n",
    "        elif guess > item:\n",
    "            high = mid - 1\n",
    "        else:\n",
    "            low = mid + 1\n",
    "    return None"
   ]
  },
  {
   "cell_type": "code",
   "execution_count": 8,
   "id": "3e8186c4-d8b4-458c-8e74-7b20aacc58e9",
   "metadata": {},
   "outputs": [
    {
     "data": {
      "text/plain": [
       "5"
      ]
     },
     "execution_count": 8,
     "metadata": {},
     "output_type": "execute_result"
    }
   ],
   "source": [
    "l = [1, 2, 3, 5, 6, 9, 10, 12, 15]\n",
    "binary_search(l, 9)"
   ]
  },
  {
   "cell_type": "markdown",
   "id": "48f4132a-56ac-4da2-8902-ebdfe78596ba",
   "metadata": {},
   "source": [
    "# Selection Sort\n"
   ]
  },
  {
   "cell_type": "code",
   "execution_count": 12,
   "id": "c8f56baa-bec3-4cba-a249-17699366aeb5",
   "metadata": {},
   "outputs": [],
   "source": [
    "def smallest(arr):\n",
    "    \"\"\"Find the index of the smallest element in the array.\"\"\"\n",
    "    smallest_id = 0\n",
    "    smallest = arr[smallest_id]\n",
    "    for i in range(1, len(arr)):\n",
    "        if arr[i] < smallest:\n",
    "            smallest = arr[i]\n",
    "            smallest_id = i\n",
    "    return smallest_id\n",
    "\n",
    "\n",
    "def selection_sort(arr):\n",
    "    \"\"\"Sort an array.\"\"\"\n",
    "    arr_sorted = []\n",
    "    for i in range(1, len(arr)):\n",
    "        smallest_id = smallest(arr)\n",
    "        arr_sorted.append(arr.pop(smallest_id))\n",
    "    return arr_sorted"
   ]
  },
  {
   "cell_type": "code",
   "execution_count": 13,
   "id": "623f0a75-10d6-4cff-b283-62353f58618a",
   "metadata": {},
   "outputs": [
    {
     "data": {
      "text/plain": [
       "[-0.4, 1, 2, 4, 5, 10]"
      ]
     },
     "execution_count": 13,
     "metadata": {},
     "output_type": "execute_result"
    }
   ],
   "source": [
    "l = [20, 1, -0.4, 10, 5, 4, 2]\n",
    "selection_sort(l)"
   ]
  },
  {
   "cell_type": "markdown",
   "id": "23d8872a-dad2-4d23-a129-879ae60ce4f3",
   "metadata": {},
   "source": [
    "# The call stack with Recursion"
   ]
  },
  {
   "cell_type": "code",
   "execution_count": 20,
   "id": "bd386c26-81a1-4851-9c99-a38501572be1",
   "metadata": {},
   "outputs": [],
   "source": [
    "def fact(x):\n",
    "    \"\"\"Calculate x!.\"\"\"\n",
    "    if x == 1:\n",
    "        return 1\n",
    "    else:\n",
    "        return x * fact(x-1)"
   ]
  },
  {
   "cell_type": "code",
   "execution_count": 16,
   "id": "514ec543-c3cb-4883-9ea9-4346a2543518",
   "metadata": {},
   "outputs": [
    {
     "data": {
      "text/plain": [
       "120"
      ]
     },
     "execution_count": 16,
     "metadata": {},
     "output_type": "execute_result"
    }
   ],
   "source": [
    "fact(5)"
   ]
  },
  {
   "cell_type": "code",
   "execution_count": 74,
   "id": "2174224c-fe30-4246-8707-51e7250f61bc",
   "metadata": {},
   "outputs": [],
   "source": [
    "def my_sum(l):\n",
    "    \"\"\"Sum all numbers in a given array.\"\"\"\n",
    "    if len(l) == 2:\n",
    "        return l[0] + l[1]\n",
    "    else:\n",
    "        return l.pop(0) + my_sum(l)"
   ]
  },
  {
   "cell_type": "code",
   "execution_count": 75,
   "id": "fc1cc91e-76a3-4855-ae42-7b9f69b23065",
   "metadata": {},
   "outputs": [
    {
     "data": {
      "text/plain": [
       "10"
      ]
     },
     "execution_count": 75,
     "metadata": {},
     "output_type": "execute_result"
    }
   ],
   "source": [
    "my_sum([1, 2, 3, 4])"
   ]
  },
  {
   "cell_type": "markdown",
   "id": "7e05b77a-127f-4014-a7eb-f79fc63b569e",
   "metadata": {},
   "source": [
    "# Quicksort"
   ]
  },
  {
   "cell_type": "code",
   "execution_count": 93,
   "id": "e6b3a9f6-6c54-4b79-9025-1c53727a4ca9",
   "metadata": {},
   "outputs": [],
   "source": [
    "def quicksort(l):\n",
    "    \"\"\"Sort a given array.\"\"\"\n",
    "    if len(l) < 2:\n",
    "        return l\n",
    "    else:\n",
    "        pivot = l[0]\n",
    "        less = [i for i in l[1:] if i <= pivot]\n",
    "        greater = [i for i in l[1:] if i > pivot]\n",
    "        return quicksort(less) + [pivot] + quicksort(greater)"
   ]
  },
  {
   "cell_type": "code",
   "execution_count": 95,
   "id": "943a09b5-6e76-45f8-98da-df8540d2bd32",
   "metadata": {},
   "outputs": [
    {
     "data": {
      "text/plain": [
       "[-1, 2, 4, 10, 20, 30, 50]"
      ]
     },
     "execution_count": 95,
     "metadata": {},
     "output_type": "execute_result"
    }
   ],
   "source": [
    "l = [10, -1, 2, 4, 20, 50, 30]\n",
    "quicksort(l)"
   ]
  },
  {
   "cell_type": "code",
   "execution_count": null,
   "id": "56fb45da-9080-4b50-a667-954f9c2f8424",
   "metadata": {},
   "outputs": [],
   "source": []
  }
 ],
 "metadata": {
  "kernelspec": {
   "display_name": "Python 3 (ipykernel)",
   "language": "python",
   "name": "python3"
  },
  "language_info": {
   "codemirror_mode": {
    "name": "ipython",
    "version": 3
   },
   "file_extension": ".py",
   "mimetype": "text/x-python",
   "name": "python",
   "nbconvert_exporter": "python",
   "pygments_lexer": "ipython3",
   "version": "3.10.0"
  }
 },
 "nbformat": 4,
 "nbformat_minor": 5
}
